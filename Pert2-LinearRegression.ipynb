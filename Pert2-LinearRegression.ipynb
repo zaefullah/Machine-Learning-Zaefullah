{
 "cells": [
  {
   "cell_type": "markdown",
   "metadata": {},
   "source": [
    "# LOOKBOOK\n",
    "\n",
    "## Machine Learning\n",
    "\n",
    "## Pert 2-Linear Regression\n",
    "Regresi linear merupakan salah satu algoritma yang paling dikenal dan dipahami dengan baik dalam statistik dan pembelajaran mesin.\n",
    "\n",
    "### 1. Supervised Learning Regression\n",
    "\n",
    "Supervised Learning Regression adalah tugas pembelajaran mesin untuk mempelajari fungsi yang memetakan input ke output berdasarkan contoh pasangan input-output.\n",
    "\n",
    "### 2. Simple Linear Regression\n",
    "\n",
    "Simple Linear Regression yaitu ketika kita memiliki satu input, kita dapat menggunakan statistik untuk memperkirakan koefisien. Ini mengharuskan Anda menghitung properti statistik dari data seperti sarana, standar deviasi, korelasi dan kovarian. Semua data harus tersedia untuk melintasi dan menghitung statistik.\n",
    "\n"
   ]
  },
  {
   "cell_type": "markdown",
   "metadata": {},
   "source": [
    "### 3. Multivariate Linear Regression\n",
    "\n",
    "Ini sangat mirip dengan model regresi linier sederhanatetapi dengan beberapa variabel independen yang berkontribusi terhadap variabel dependen dan karenanya beberapa koefisien untuk menentukan dan perhitungan yang kompleks karena variabel yang ditambahkan. dan model yang akan dibentuk berdasarkan beberapa fitur atau atribut\n",
    "\n",
    "$f(x;w)=w_0+w_1x_1+...+w_dx_d$\n",
    "\n",
    "Pencarian paramater membutuhkan :\n",
    "- loss function\n",
    "- meminimalkan loss function\n",
    "\n",
    "Loss Function :\n",
    "\\begin{eqnarray}\n",
    "J_n(w)=\\frac{1}{n}\\sum_{i=1}^{n}(y_i-f(x_i;w))^2\n",
    "\\end{eqnarray}"
   ]
  },
  {
   "cell_type": "markdown",
   "metadata": {},
   "source": [
    "### Gradient Descent\n",
    "\n",
    "Untuk mencari nilai koefisien dari model yang akan dibentuk, dapat dilakukan dengan cara meminimalkan error dari model yang dihasilkan dari data training, atau yang disebut dengan Gradient Descent.\n",
    "\n",
    "Tahapan yang dilakukan pada Gradient Descent :\n",
    "1. Hitung error yang dihasilkan oleh setiap data set (antara output dengan target)\n",
    "2. Gunakan *learning rate* untuk menentukan seberapa jauh perubahan menuju error minimal\n",
    "3. Lakukan berulang kali sampai error minimal tercapai"
   ]
  },
  {
   "cell_type": "code",
   "execution_count": 7,
   "metadata": {},
   "outputs": [],
   "source": []
  },
  {
   "cell_type": "code",
   "execution_count": null,
   "metadata": {},
   "outputs": [],
   "source": []
  }
 ],
 "metadata": {
  "kernelspec": {
   "display_name": "Python 3",
   "language": "python",
   "name": "python3"
  },
  "language_info": {
   "codemirror_mode": {
    "name": "ipython",
    "version": 3
   },
   "file_extension": ".py",
   "mimetype": "text/x-python",
   "name": "python",
   "nbconvert_exporter": "python",
   "pygments_lexer": "ipython3",
   "version": "3.6.5"
  }
 },
 "nbformat": 4,
 "nbformat_minor": 2
}
